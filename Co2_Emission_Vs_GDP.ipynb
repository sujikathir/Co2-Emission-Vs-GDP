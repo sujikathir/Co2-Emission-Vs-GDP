{
  "nbformat": 4,
  "nbformat_minor": 0,
  "metadata": {
    "kernelspec": {
      "display_name": "Python 3",
      "language": "python",
      "name": "python3"
    },
    "language_info": {
      "codemirror_mode": {
        "name": "ipython",
        "version": 3
      },
      "file_extension": ".py",
      "mimetype": "text/x-python",
      "name": "python",
      "nbconvert_exporter": "python",
      "pygments_lexer": "ipython3",
      "version": "3.5.2"
    },
    "colab": {
      "name": "Co2 Emission Vs GDP.ipynb.txt",
      "provenance": [],
      "collapsed_sections": [],
      "include_colab_link": true
    }
  },
  "cells": [
    {
      "cell_type": "markdown",
      "metadata": {
        "id": "view-in-github",
        "colab_type": "text"
      },
      "source": [
        "<a href=\"https://colab.research.google.com/github/sujikathir/Co2-Emission-Vs-GDP/blob/main/Co2_Emission_Vs_GDP.ipynb\" target=\"_parent\"><img src=\"https://colab.research.google.com/assets/colab-badge.svg\" alt=\"Open In Colab\"/></a>"
      ]
    },
    {
      "cell_type": "code",
      "metadata": {
        "id": "UmD0y6WMETEh"
      },
      "source": [
        "# Data Source: https://www.kaggle.com/worldbank/world-development-indicators\n",
        "# Folder: 'world-development-indicators'"
      ],
      "execution_count": null,
      "outputs": []
    },
    {
      "cell_type": "markdown",
      "metadata": {
        "id": "S5_WZGKYETEw"
      },
      "source": [
        "<p style=\"font-family: Arial; font-size:3.75em;color:purple; font-style:bold\">\n",
        "Matplotlib: Exploring <br><br>\n",
        "Data Visualization"
      ]
    },
    {
      "cell_type": "markdown",
      "metadata": {
        "id": "qF3HwtTrETEy"
      },
      "source": [
        "<br><br><center><h1 style=\"font-size:2em;color:#2467C0\">World Development Indicators</h1></center>\n",
        "<br>\n",
        "<table>\n",
        "<col width=\"550\">\n",
        "<col width=\"450\">\n",
        "<tr>\n",
        "<td><img src=\"https://upload.wikimedia.org/wikipedia/commons/4/46/North_South_divide.svg\" align=\"middle\" style=\"width:550px;height:360px;\"/></td>\n",
        "<td>\n",
        "This week, we will be using an open dataset from <a href=\"https://www.kaggle.com\">Kaggle</a>. It is  <a href=\"https://www.kaggle.com/worldbank/world-development-indicators\">The World Development Indicators</a> dataset obtained from the World Bank containing over a thousand annual indicators of economic development from hundreds of countries around the world.\n",
        "<br>\n",
        "<br>\n",
        "This is a slightly modified version of the original dataset from <a href=\"http://data.worldbank.org/data-catalog/world-development-indicators\">The World Bank</a>\n",
        "<br>\n",
        "<br>\n",
        "List of the <a href=\"https://www.kaggle.com/benhamner/d/worldbank/world-development-indicators/indicators-in-data\">available indicators</a> and a <a href=\"https://www.kaggle.com/benhamner/d/worldbank/world-development-indicators/countries-in-the-wdi-data\">list of the available countries</a>.\n",
        "</td>\n",
        "</tr>\n",
        "</table>"
      ]
    },
    {
      "cell_type": "markdown",
      "metadata": {
        "id": "IL15TehxETEz"
      },
      "source": [
        "# Step 1: Initial exploration of the Dataset"
      ]
    },
    {
      "cell_type": "code",
      "metadata": {
        "id": "qlzWUXPrETE0"
      },
      "source": [
        "import pandas as pd\n",
        "import numpy as np\n",
        "import random\n",
        "import matplotlib.pyplot as plt"
      ],
      "execution_count": 1,
      "outputs": []
    },
    {
      "cell_type": "code",
      "metadata": {
        "id": "g9NwLD60OSW3",
        "outputId": "5cf2f52a-50f7-494b-ebd7-6b3da9b2a0d1",
        "colab": {
          "base_uri": "https://localhost:8080/",
          "height": 34
        }
      },
      "source": [
        "from google.colab import drive\n",
        "drive.mount('/content/drive')"
      ],
      "execution_count": 2,
      "outputs": [
        {
          "output_type": "stream",
          "text": [
            "Mounted at /content/drive\n"
          ],
          "name": "stdout"
        }
      ]
    },
    {
      "cell_type": "code",
      "metadata": {
        "id": "OGgvTrEHRmf8"
      },
      "source": [
        "# !unzip '/content/drive/My Drive/Data science/1/Archive.zip' -d '/content/drive/My Drive/Data science/1'"
      ],
      "execution_count": 7,
      "outputs": []
    },
    {
      "cell_type": "code",
      "metadata": {
        "id": "_yr-tvL-Rk8-",
        "outputId": "125d283e-cd8f-4da3-b573-a33bf1f6d91a",
        "colab": {
          "base_uri": "https://localhost:8080/",
          "height": 34
        }
      },
      "source": [
        "data = pd.read_csv('/content/drive/My Drive/Data science/1/Indicators.csv')\n",
        "data.shape"
      ],
      "execution_count": 8,
      "outputs": [
        {
          "output_type": "execute_result",
          "data": {
            "text/plain": [
              "(5656458, 6)"
            ]
          },
          "metadata": {
            "tags": []
          },
          "execution_count": 8
        }
      ]
    },
    {
      "cell_type": "markdown",
      "metadata": {
        "id": "yx-IAcnpETFF"
      },
      "source": [
        "This is a really large dataset, at least in terms of the number of rows.  But with 6 columns, what does this hold?"
      ]
    },
    {
      "cell_type": "code",
      "metadata": {
        "id": "aBWykkQNETFG",
        "outputId": "02feb83f-7621-46c8-9ad8-f2bb5875d0cd",
        "colab": {
          "base_uri": "https://localhost:8080/",
          "height": 360
        }
      },
      "source": [
        "data.head(10)"
      ],
      "execution_count": 9,
      "outputs": [
        {
          "output_type": "execute_result",
          "data": {
            "text/html": [
              "<div>\n",
              "<style scoped>\n",
              "    .dataframe tbody tr th:only-of-type {\n",
              "        vertical-align: middle;\n",
              "    }\n",
              "\n",
              "    .dataframe tbody tr th {\n",
              "        vertical-align: top;\n",
              "    }\n",
              "\n",
              "    .dataframe thead th {\n",
              "        text-align: right;\n",
              "    }\n",
              "</style>\n",
              "<table border=\"1\" class=\"dataframe\">\n",
              "  <thead>\n",
              "    <tr style=\"text-align: right;\">\n",
              "      <th></th>\n",
              "      <th>CountryName</th>\n",
              "      <th>CountryCode</th>\n",
              "      <th>IndicatorName</th>\n",
              "      <th>IndicatorCode</th>\n",
              "      <th>Year</th>\n",
              "      <th>Value</th>\n",
              "    </tr>\n",
              "  </thead>\n",
              "  <tbody>\n",
              "    <tr>\n",
              "      <th>0</th>\n",
              "      <td>Arab World</td>\n",
              "      <td>ARB</td>\n",
              "      <td>Adolescent fertility rate (births per 1,000 wo...</td>\n",
              "      <td>SP.ADO.TFRT</td>\n",
              "      <td>1960</td>\n",
              "      <td>1.335609e+02</td>\n",
              "    </tr>\n",
              "    <tr>\n",
              "      <th>1</th>\n",
              "      <td>Arab World</td>\n",
              "      <td>ARB</td>\n",
              "      <td>Age dependency ratio (% of working-age populat...</td>\n",
              "      <td>SP.POP.DPND</td>\n",
              "      <td>1960</td>\n",
              "      <td>8.779760e+01</td>\n",
              "    </tr>\n",
              "    <tr>\n",
              "      <th>2</th>\n",
              "      <td>Arab World</td>\n",
              "      <td>ARB</td>\n",
              "      <td>Age dependency ratio, old (% of working-age po...</td>\n",
              "      <td>SP.POP.DPND.OL</td>\n",
              "      <td>1960</td>\n",
              "      <td>6.634579e+00</td>\n",
              "    </tr>\n",
              "    <tr>\n",
              "      <th>3</th>\n",
              "      <td>Arab World</td>\n",
              "      <td>ARB</td>\n",
              "      <td>Age dependency ratio, young (% of working-age ...</td>\n",
              "      <td>SP.POP.DPND.YG</td>\n",
              "      <td>1960</td>\n",
              "      <td>8.102333e+01</td>\n",
              "    </tr>\n",
              "    <tr>\n",
              "      <th>4</th>\n",
              "      <td>Arab World</td>\n",
              "      <td>ARB</td>\n",
              "      <td>Arms exports (SIPRI trend indicator values)</td>\n",
              "      <td>MS.MIL.XPRT.KD</td>\n",
              "      <td>1960</td>\n",
              "      <td>3.000000e+06</td>\n",
              "    </tr>\n",
              "    <tr>\n",
              "      <th>5</th>\n",
              "      <td>Arab World</td>\n",
              "      <td>ARB</td>\n",
              "      <td>Arms imports (SIPRI trend indicator values)</td>\n",
              "      <td>MS.MIL.MPRT.KD</td>\n",
              "      <td>1960</td>\n",
              "      <td>5.380000e+08</td>\n",
              "    </tr>\n",
              "    <tr>\n",
              "      <th>6</th>\n",
              "      <td>Arab World</td>\n",
              "      <td>ARB</td>\n",
              "      <td>Birth rate, crude (per 1,000 people)</td>\n",
              "      <td>SP.DYN.CBRT.IN</td>\n",
              "      <td>1960</td>\n",
              "      <td>4.769789e+01</td>\n",
              "    </tr>\n",
              "    <tr>\n",
              "      <th>7</th>\n",
              "      <td>Arab World</td>\n",
              "      <td>ARB</td>\n",
              "      <td>CO2 emissions (kt)</td>\n",
              "      <td>EN.ATM.CO2E.KT</td>\n",
              "      <td>1960</td>\n",
              "      <td>5.956399e+04</td>\n",
              "    </tr>\n",
              "    <tr>\n",
              "      <th>8</th>\n",
              "      <td>Arab World</td>\n",
              "      <td>ARB</td>\n",
              "      <td>CO2 emissions (metric tons per capita)</td>\n",
              "      <td>EN.ATM.CO2E.PC</td>\n",
              "      <td>1960</td>\n",
              "      <td>6.439635e-01</td>\n",
              "    </tr>\n",
              "    <tr>\n",
              "      <th>9</th>\n",
              "      <td>Arab World</td>\n",
              "      <td>ARB</td>\n",
              "      <td>CO2 emissions from gaseous fuel consumption (%...</td>\n",
              "      <td>EN.ATM.CO2E.GF.ZS</td>\n",
              "      <td>1960</td>\n",
              "      <td>5.041292e+00</td>\n",
              "    </tr>\n",
              "  </tbody>\n",
              "</table>\n",
              "</div>"
            ],
            "text/plain": [
              "  CountryName CountryCode  ...  Year         Value\n",
              "0  Arab World         ARB  ...  1960  1.335609e+02\n",
              "1  Arab World         ARB  ...  1960  8.779760e+01\n",
              "2  Arab World         ARB  ...  1960  6.634579e+00\n",
              "3  Arab World         ARB  ...  1960  8.102333e+01\n",
              "4  Arab World         ARB  ...  1960  3.000000e+06\n",
              "5  Arab World         ARB  ...  1960  5.380000e+08\n",
              "6  Arab World         ARB  ...  1960  4.769789e+01\n",
              "7  Arab World         ARB  ...  1960  5.956399e+04\n",
              "8  Arab World         ARB  ...  1960  6.439635e-01\n",
              "9  Arab World         ARB  ...  1960  5.041292e+00\n",
              "\n",
              "[10 rows x 6 columns]"
            ]
          },
          "metadata": {
            "tags": []
          },
          "execution_count": 9
        }
      ]
    },
    {
      "cell_type": "markdown",
      "metadata": {
        "id": "oqW45p2GETFN"
      },
      "source": [
        "Looks like it has different indicators for different countries with the year and value of the indicator. "
      ]
    },
    {
      "cell_type": "markdown",
      "metadata": {
        "id": "ovLX8KSVETFP"
      },
      "source": [
        "### How many UNIQUE country names are there ?"
      ]
    },
    {
      "cell_type": "code",
      "metadata": {
        "id": "nDGR1CPBETFS",
        "outputId": "9edb67a0-f339-4d25-cf2d-689ab645a092",
        "colab": {
          "base_uri": "https://localhost:8080/",
          "height": 34
        }
      },
      "source": [
        "countries = data['CountryName'].unique().tolist()\n",
        "len(countries)"
      ],
      "execution_count": 10,
      "outputs": [
        {
          "output_type": "execute_result",
          "data": {
            "text/plain": [
              "247"
            ]
          },
          "metadata": {
            "tags": []
          },
          "execution_count": 10
        }
      ]
    },
    {
      "cell_type": "markdown",
      "metadata": {
        "id": "sLU5AvU0ETFZ"
      },
      "source": [
        "### Are there same number of country codes ?"
      ]
    },
    {
      "cell_type": "code",
      "metadata": {
        "id": "zQzuTSqRETFa",
        "outputId": "afd3904f-aeba-4ae7-951c-1e84e73c797a"
      },
      "source": [
        "# How many unique country codes are there ? (should be the same #)\n",
        "countryCodes = data['CountryCode'].unique().tolist()\n",
        "len(countryCodes)"
      ],
      "execution_count": null,
      "outputs": [
        {
          "output_type": "execute_result",
          "data": {
            "text/plain": [
              "247"
            ]
          },
          "metadata": {
            "tags": []
          },
          "execution_count": 11
        }
      ]
    },
    {
      "cell_type": "markdown",
      "metadata": {
        "id": "ikfKjzN4ETFj"
      },
      "source": [
        "### Are there many indicators or few ?"
      ]
    },
    {
      "cell_type": "code",
      "metadata": {
        "id": "9I81tq4JETFk",
        "outputId": "7e60ce92-9a77-49da-89bf-55ab09d893e3"
      },
      "source": [
        "# How many unique indicators are there ? (should be the same #)\n",
        "indicators = data['IndicatorName'].unique().tolist()\n",
        "len(indicators)"
      ],
      "execution_count": null,
      "outputs": [
        {
          "output_type": "execute_result",
          "data": {
            "text/plain": [
              "1344"
            ]
          },
          "metadata": {
            "tags": []
          },
          "execution_count": 12
        }
      ]
    },
    {
      "cell_type": "markdown",
      "metadata": {
        "id": "6A1MiPyfETFr"
      },
      "source": [
        "### How many years of data do we have ?"
      ]
    },
    {
      "cell_type": "code",
      "metadata": {
        "id": "UTypoY1IETFs",
        "outputId": "c0da12f6-4b04-4d97-fe7f-6c3a20015b80"
      },
      "source": [
        "# How many years of data do we have ?\n",
        "years = data['Year'].unique().tolist()\n",
        "len(years)"
      ],
      "execution_count": null,
      "outputs": [
        {
          "output_type": "execute_result",
          "data": {
            "text/plain": [
              "56"
            ]
          },
          "metadata": {
            "tags": []
          },
          "execution_count": 13
        }
      ]
    },
    {
      "cell_type": "markdown",
      "metadata": {
        "id": "wZIZjdViETFv"
      },
      "source": [
        "### What's the range of years?"
      ]
    },
    {
      "cell_type": "code",
      "metadata": {
        "id": "yvTZ-829ETFw",
        "outputId": "b48cc01b-14a5-438d-ea98-e90fd244f667"
      },
      "source": [
        "print(min(years),\" to \",max(years))"
      ],
      "execution_count": null,
      "outputs": [
        {
          "output_type": "stream",
          "text": [
            "1960  to  2015\n"
          ],
          "name": "stdout"
        }
      ]
    },
    {
      "cell_type": "markdown",
      "metadata": {
        "id": "3PGu4Hs7ETF1"
      },
      "source": [
        "<p style=\"font-family: Arial; font-size:2.5em;color:blue; font-style:bold\">\n",
        "Matplotlib: Basic Plotting, Part 1</p><br>"
      ]
    },
    {
      "cell_type": "markdown",
      "metadata": {
        "id": "ZeKgtA9JETF2"
      },
      "source": [
        "### Lets pick a country and an indicator to explore: CO2 Emissions per capita and the USA"
      ]
    },
    {
      "cell_type": "code",
      "metadata": {
        "id": "sSglHRZTETF3"
      },
      "source": [
        "# select CO2 emissions for the United States\n",
        "hist_indicator = 'CO2 emissions \\(metric'\n",
        "hist_country = 'USA'\n",
        "\n",
        "mask1 = data['IndicatorName'].str.contains(hist_indicator) \n",
        "mask2 = data['CountryCode'].str.contains(hist_country)\n",
        "\n",
        "# stage is just those indicators matching the USA for country code and CO2 emissions over time.\n",
        "stage = data[mask1 & mask2]"
      ],
      "execution_count": 20,
      "outputs": []
    },
    {
      "cell_type": "code",
      "metadata": {
        "id": "2IE7nS3zETF8",
        "outputId": "4e6b5e48-6fbd-4f91-8340-faf60d196a0a",
        "colab": {
          "base_uri": "https://localhost:8080/",
          "height": 195
        }
      },
      "source": [
        "stage.head()"
      ],
      "execution_count": 21,
      "outputs": [
        {
          "output_type": "execute_result",
          "data": {
            "text/html": [
              "<div>\n",
              "<style scoped>\n",
              "    .dataframe tbody tr th:only-of-type {\n",
              "        vertical-align: middle;\n",
              "    }\n",
              "\n",
              "    .dataframe tbody tr th {\n",
              "        vertical-align: top;\n",
              "    }\n",
              "\n",
              "    .dataframe thead th {\n",
              "        text-align: right;\n",
              "    }\n",
              "</style>\n",
              "<table border=\"1\" class=\"dataframe\">\n",
              "  <thead>\n",
              "    <tr style=\"text-align: right;\">\n",
              "      <th></th>\n",
              "      <th>CountryName</th>\n",
              "      <th>CountryCode</th>\n",
              "      <th>IndicatorName</th>\n",
              "      <th>IndicatorCode</th>\n",
              "      <th>Year</th>\n",
              "      <th>Value</th>\n",
              "    </tr>\n",
              "  </thead>\n",
              "  <tbody>\n",
              "    <tr>\n",
              "      <th>22232</th>\n",
              "      <td>United States</td>\n",
              "      <td>USA</td>\n",
              "      <td>CO2 emissions (metric tons per capita)</td>\n",
              "      <td>EN.ATM.CO2E.PC</td>\n",
              "      <td>1960</td>\n",
              "      <td>15.999779</td>\n",
              "    </tr>\n",
              "    <tr>\n",
              "      <th>48708</th>\n",
              "      <td>United States</td>\n",
              "      <td>USA</td>\n",
              "      <td>CO2 emissions (metric tons per capita)</td>\n",
              "      <td>EN.ATM.CO2E.PC</td>\n",
              "      <td>1961</td>\n",
              "      <td>15.681256</td>\n",
              "    </tr>\n",
              "    <tr>\n",
              "      <th>77087</th>\n",
              "      <td>United States</td>\n",
              "      <td>USA</td>\n",
              "      <td>CO2 emissions (metric tons per capita)</td>\n",
              "      <td>EN.ATM.CO2E.PC</td>\n",
              "      <td>1962</td>\n",
              "      <td>16.013937</td>\n",
              "    </tr>\n",
              "    <tr>\n",
              "      <th>105704</th>\n",
              "      <td>United States</td>\n",
              "      <td>USA</td>\n",
              "      <td>CO2 emissions (metric tons per capita)</td>\n",
              "      <td>EN.ATM.CO2E.PC</td>\n",
              "      <td>1963</td>\n",
              "      <td>16.482762</td>\n",
              "    </tr>\n",
              "    <tr>\n",
              "      <th>134742</th>\n",
              "      <td>United States</td>\n",
              "      <td>USA</td>\n",
              "      <td>CO2 emissions (metric tons per capita)</td>\n",
              "      <td>EN.ATM.CO2E.PC</td>\n",
              "      <td>1964</td>\n",
              "      <td>16.968119</td>\n",
              "    </tr>\n",
              "  </tbody>\n",
              "</table>\n",
              "</div>"
            ],
            "text/plain": [
              "          CountryName CountryCode  ...  Year      Value\n",
              "22232   United States         USA  ...  1960  15.999779\n",
              "48708   United States         USA  ...  1961  15.681256\n",
              "77087   United States         USA  ...  1962  16.013937\n",
              "105704  United States         USA  ...  1963  16.482762\n",
              "134742  United States         USA  ...  1964  16.968119\n",
              "\n",
              "[5 rows x 6 columns]"
            ]
          },
          "metadata": {
            "tags": []
          },
          "execution_count": 21
        }
      ]
    },
    {
      "cell_type": "markdown",
      "metadata": {
        "id": "1nc5xftQETGA"
      },
      "source": [
        "### Let's see how emissions have changed over time using MatplotLib"
      ]
    },
    {
      "cell_type": "code",
      "metadata": {
        "id": "Uviuj4_7ETGB",
        "outputId": "57bfcd08-0ebb-4952-bfd7-18ebf76cbae7",
        "colab": {
          "base_uri": "https://localhost:8080/",
          "height": 265
        }
      },
      "source": [
        "# get the years\n",
        "years = stage['Year'].values\n",
        "# get the values \n",
        "co2 = stage['Value'].values\n",
        "\n",
        "# create\n",
        "plt.bar(years,co2)\n",
        "plt.show()"
      ],
      "execution_count": 22,
      "outputs": [
        {
          "output_type": "display_data",
          "data": {
            "image/png": "[encoded data removed]",
            "text/plain": [
              "<Figure size 432x288 with 1 Axes>"
            ]
          },
          "metadata": {
            "tags": [],
            "needs_background": "light"
          }
        }
      ]
    },
    {
      "cell_type": "markdown",
      "metadata": {
        "id": "TbOwpmuuETGG"
      },
      "source": [
        "Turns out emissions per capita have dropped a bit over time, but let's make this graphic a bit more appealing before we continue to explore it."
      ]
    },
    {
      "cell_type": "code",
      "metadata": {
        "id": "8KoOKp8lETGH",
        "outputId": "484f736a-3a1e-422b-efc6-845612d0a8e7",
        "colab": {
          "base_uri": "https://localhost:8080/",
          "height": 295
        }
      },
      "source": [
        "# switch to a line plot\n",
        "plt.plot(stage['Year'].values, stage['Value'].values)\n",
        "\n",
        "# Label the axes\n",
        "plt.xlabel('Year')\n",
        "plt.ylabel(stage['IndicatorName'].iloc[0])\n",
        "\n",
        "#label the figure\n",
        "plt.title('CO2 Emissions in USA')\n",
        "\n",
        "# to make more honest, start they y axis at 0\n",
        "plt.axis([1959, 2011,0,25])\n",
        "\n",
        "plt.show()"
      ],
      "execution_count": 23,
      "outputs": [
        {
          "output_type": "display_data",
          "data": {
            "image/png": "[encoded data removed]",
            "text/plain": [
              "<Figure size 432x288 with 1 Axes>"
            ]
          },
          "metadata": {
            "tags": [],
            "needs_background": "light"
          }
        }
      ]
    },
    {
      "cell_type": "markdown",
      "metadata": {
        "id": "nmR_Ct8yETGK"
      },
      "source": [
        "### Using Histograms to explore the distribution of values\n",
        "We could also visualize this data as a histogram to better explore the ranges of values in CO2 production per year. "
      ]
    },
    {
      "cell_type": "code",
      "metadata": {
        "id": "fCH_EhdXETGL"
      },
      "source": [
        "# If you want to just include those within one standard deviation fo the mean, you could do the following\n",
        "# lower = stage['Value'].mean() - stage['Value'].std()\n",
        "# upper = stage['Value'].mean() + stage['Value'].std()\n",
        "# hist_data = [x for x in stage[:10000]['Value'] if x>lower and x<upper ]\n",
        "\n",
        "# Otherwise, let's look at all the data\n",
        "hist_data = stage['Value'].values"
      ],
      "execution_count": 24,
      "outputs": []
    },
    {
      "cell_type": "code",
      "metadata": {
        "id": "AMIS9_qGETGP",
        "outputId": "8e35a9dd-c1a7-4261-9307-829ab43e4d83",
        "colab": {
          "base_uri": "https://localhost:8080/",
          "height": 34
        }
      },
      "source": [
        "print(len(hist_data))"
      ],
      "execution_count": 25,
      "outputs": [
        {
          "output_type": "stream",
          "text": [
            "52\n"
          ],
          "name": "stdout"
        }
      ]
    },
    {
      "cell_type": "code",
      "metadata": {
        "scrolled": true,
        "id": "B8u22zv6ETGS",
        "outputId": "771a84da-5c85-495c-ba87-e92cb4593df8",
        "colab": {
          "base_uri": "https://localhost:8080/",
          "height": 295
        }
      },
      "source": [
        "# the histogram of the data\n",
        "plt.hist(hist_data, 10, facecolor='green')\n",
        "\n",
        "plt.xlabel(stage['IndicatorName'].iloc[0])\n",
        "plt.ylabel('# of Years')\n",
        "plt.title('Histogram Example')\n",
        "\n",
        "plt.grid(True)\n",
        "\n",
        "plt.show()"
      ],
      "execution_count": 47,
      "outputs": [
        {
          "output_type": "display_data",
          "data": {
            "image/png": "[encoded data removed]",
            "text/plain": [
              "<Figure size 432x288 with 1 Axes>"
            ]
          },
          "metadata": {
            "tags": [],
            "needs_background": "light"
          }
        }
      ]
    },
    {
      "cell_type": "markdown",
      "metadata": {
        "id": "RhYnZNjrETGW"
      },
      "source": [
        "So the USA has many years where it produced between 19-20 metric tons per capita with outliers on either side."
      ]
    },
    {
      "cell_type": "markdown",
      "metadata": {
        "id": "s9YdupDaETGW"
      },
      "source": [
        "### But how do the USA's numbers relate to those of other countries?"
      ]
    },
    {
      "cell_type": "code",
      "metadata": {
        "id": "YCG9pAxPETGX",
        "outputId": "9a9afef5-ada3-4681-e7c9-7c829ca005ec",
        "colab": {
          "base_uri": "https://localhost:8080/",
          "height": 279
        }
      },
      "source": [
        "# select CO2 emissions for all countries in 2011\n",
        "hist_indicator = 'CO2 emissions \\(metric'\n",
        "hist_year = 2011\n",
        "\n",
        "mask1 = data['IndicatorName'].str.contains(hist_indicator) \n",
        "mask2 = data['Year'].isin([hist_year])\n",
        "\n",
        "# apply our mask\n",
        "co2_2011 = data[mask1 & mask2]\n",
        "co2_2011.head()"
      ],
      "execution_count": 27,
      "outputs": [
        {
          "output_type": "execute_result",
          "data": {
            "text/html": [
              "<div>\n",
              "<style scoped>\n",
              "    .dataframe tbody tr th:only-of-type {\n",
              "        vertical-align: middle;\n",
              "    }\n",
              "\n",
              "    .dataframe tbody tr th {\n",
              "        vertical-align: top;\n",
              "    }\n",
              "\n",
              "    .dataframe thead th {\n",
              "        text-align: right;\n",
              "    }\n",
              "</style>\n",
              "<table border=\"1\" class=\"dataframe\">\n",
              "  <thead>\n",
              "    <tr style=\"text-align: right;\">\n",
              "      <th></th>\n",
              "      <th>CountryName</th>\n",
              "      <th>CountryCode</th>\n",
              "      <th>IndicatorName</th>\n",
              "      <th>IndicatorCode</th>\n",
              "      <th>Year</th>\n",
              "      <th>Value</th>\n",
              "    </tr>\n",
              "  </thead>\n",
              "  <tbody>\n",
              "    <tr>\n",
              "      <th>5026275</th>\n",
              "      <td>Arab World</td>\n",
              "      <td>ARB</td>\n",
              "      <td>CO2 emissions (metric tons per capita)</td>\n",
              "      <td>EN.ATM.CO2E.PC</td>\n",
              "      <td>2011</td>\n",
              "      <td>4.724500</td>\n",
              "    </tr>\n",
              "    <tr>\n",
              "      <th>5026788</th>\n",
              "      <td>Caribbean small states</td>\n",
              "      <td>CSS</td>\n",
              "      <td>CO2 emissions (metric tons per capita)</td>\n",
              "      <td>EN.ATM.CO2E.PC</td>\n",
              "      <td>2011</td>\n",
              "      <td>9.692960</td>\n",
              "    </tr>\n",
              "    <tr>\n",
              "      <th>5027295</th>\n",
              "      <td>Central Europe and the Baltics</td>\n",
              "      <td>CEB</td>\n",
              "      <td>CO2 emissions (metric tons per capita)</td>\n",
              "      <td>EN.ATM.CO2E.PC</td>\n",
              "      <td>2011</td>\n",
              "      <td>6.911131</td>\n",
              "    </tr>\n",
              "    <tr>\n",
              "      <th>5027870</th>\n",
              "      <td>East Asia &amp; Pacific (all income levels)</td>\n",
              "      <td>EAS</td>\n",
              "      <td>CO2 emissions (metric tons per capita)</td>\n",
              "      <td>EN.ATM.CO2E.PC</td>\n",
              "      <td>2011</td>\n",
              "      <td>5.859548</td>\n",
              "    </tr>\n",
              "    <tr>\n",
              "      <th>5028456</th>\n",
              "      <td>East Asia &amp; Pacific (developing only)</td>\n",
              "      <td>EAP</td>\n",
              "      <td>CO2 emissions (metric tons per capita)</td>\n",
              "      <td>EN.ATM.CO2E.PC</td>\n",
              "      <td>2011</td>\n",
              "      <td>5.302499</td>\n",
              "    </tr>\n",
              "  </tbody>\n",
              "</table>\n",
              "</div>"
            ],
            "text/plain": [
              "                                     CountryName CountryCode  ...  Year     Value\n",
              "5026275                               Arab World         ARB  ...  2011  4.724500\n",
              "5026788                   Caribbean small states         CSS  ...  2011  9.692960\n",
              "5027295           Central Europe and the Baltics         CEB  ...  2011  6.911131\n",
              "5027870  East Asia & Pacific (all income levels)         EAS  ...  2011  5.859548\n",
              "5028456    East Asia & Pacific (developing only)         EAP  ...  2011  5.302499\n",
              "\n",
              "[5 rows x 6 columns]"
            ]
          },
          "metadata": {
            "tags": []
          },
          "execution_count": 27
        }
      ]
    },
    {
      "cell_type": "markdown",
      "metadata": {
        "id": "wWtHnxl2ETGc"
      },
      "source": [
        "For how many countries do we have CO2 per capita emissions data in 2011"
      ]
    },
    {
      "cell_type": "code",
      "metadata": {
        "id": "hUm0DYQnETGd",
        "outputId": "d9e33218-1403-4d2a-cab7-f57d2eeaac70",
        "colab": {
          "base_uri": "https://localhost:8080/",
          "height": 34
        }
      },
      "source": [
        "print(len(co2_2011))"
      ],
      "execution_count": 28,
      "outputs": [
        {
          "output_type": "stream",
          "text": [
            "232\n"
          ],
          "name": "stdout"
        }
      ]
    },
    {
      "cell_type": "code",
      "metadata": {
        "id": "f6zUcdTmETGg",
        "outputId": "e7e553d0-1a8b-473f-b941-84c165a2f45e",
        "colab": {
          "base_uri": "https://localhost:8080/",
          "height": 295
        }
      },
      "source": [
        "# let's plot a histogram of the emmissions per capita by country\n",
        "\n",
        "# subplots returns a touple with the figure, axis attributes.\n",
        "fig, ax = plt.subplots()\n",
        "\n",
        "ax.annotate(\"USA\",\n",
        "            xy=(18, 5), xycoords='data',\n",
        "            xytext=(18, 30), textcoords='data',\n",
        "            arrowprops=dict(arrowstyle=\"->\",\n",
        "                            connectionstyle=\"arc3\"),\n",
        "            )\n",
        "\n",
        "plt.hist(co2_2011['Value'], 10, facecolor='green')\n",
        "\n",
        "plt.xlabel(stage['IndicatorName'].iloc[0])\n",
        "plt.ylabel('# of Countries')\n",
        "plt.title('Histogram of CO2 Emissions Per Capita')\n",
        "\n",
        "#plt.axis([10, 22, 0, 14])\n",
        "plt.grid(True)\n",
        "\n",
        "plt.show()"
      ],
      "execution_count": 38,
      "outputs": [
        {
          "output_type": "display_data",
          "data": {
            "image/png": "[encoded data removed]",
            "text/plain": [
              "<Figure size 432x288 with 1 Axes>"
            ]
          },
          "metadata": {
            "tags": [],
            "needs_background": "light"
          }
        }
      ]
    },
    {
      "cell_type": "markdown",
      "metadata": {
        "id": "vHOBy7FSETGk"
      },
      "source": [
        "So the USA, at ~18 CO2 emissions (metric tons per capital) is quite high among all countries.\n",
        "\n",
        "An interesting next step, which we'll save for you, would be to explore how this relates to other industrialized nations and to look at the outliers with those values in the 40s!"
      ]
    },
    {
      "cell_type": "markdown",
      "metadata": {
        "id": "lxytcl6XETGl"
      },
      "source": [
        "<p style=\"font-family: Arial; font-size:2.0em;color:blue; font-style:bold\">\n",
        "Matplotlib: Basic Plotting, Part 2</p>"
      ]
    },
    {
      "cell_type": "markdown",
      "metadata": {
        "id": "XGZcgRPJETGm"
      },
      "source": [
        "### Relationship between GPD and CO2 Emissions in USA"
      ]
    },
    {
      "cell_type": "code",
      "metadata": {
        "id": "vppzgkjWETGm"
      },
      "source": [
        "# select GDP Per capita emissions for the United States\n",
        "hist_indicator = 'GDP per capita \\(constant 2005'\n",
        "hist_country = 'USA'\n",
        "\n",
        "mask1 = data['IndicatorName'].str.contains(hist_indicator) \n",
        "mask2 = data['CountryCode'].str.contains(hist_country)\n",
        "\n",
        "# stage is just those indicators matching the USA for country code and CO2 emissions over time.\n",
        "gdp_stage = data[mask1 & mask2]\n",
        "\n",
        "#plot gdp_stage vs stage"
      ],
      "execution_count": 39,
      "outputs": []
    },
    {
      "cell_type": "code",
      "metadata": {
        "id": "yKhi-2xkETGr",
        "outputId": "1b387a88-8825-408a-f6c1-229a1fa27f52",
        "colab": {
          "base_uri": "https://localhost:8080/",
          "height": 106
        }
      },
      "source": [
        "gdp_stage.head(2)"
      ],
      "execution_count": 40,
      "outputs": [
        {
          "output_type": "execute_result",
          "data": {
            "text/html": [
              "<div>\n",
              "<style scoped>\n",
              "    .dataframe tbody tr th:only-of-type {\n",
              "        vertical-align: middle;\n",
              "    }\n",
              "\n",
              "    .dataframe tbody tr th {\n",
              "        vertical-align: top;\n",
              "    }\n",
              "\n",
              "    .dataframe thead th {\n",
              "        text-align: right;\n",
              "    }\n",
              "</style>\n",
              "<table border=\"1\" class=\"dataframe\">\n",
              "  <thead>\n",
              "    <tr style=\"text-align: right;\">\n",
              "      <th></th>\n",
              "      <th>CountryName</th>\n",
              "      <th>CountryCode</th>\n",
              "      <th>IndicatorName</th>\n",
              "      <th>IndicatorCode</th>\n",
              "      <th>Year</th>\n",
              "      <th>Value</th>\n",
              "    </tr>\n",
              "  </thead>\n",
              "  <tbody>\n",
              "    <tr>\n",
              "      <th>22282</th>\n",
              "      <td>United States</td>\n",
              "      <td>USA</td>\n",
              "      <td>GDP per capita (constant 2005 US$)</td>\n",
              "      <td>NY.GDP.PCAP.KD</td>\n",
              "      <td>1960</td>\n",
              "      <td>15482.707760</td>\n",
              "    </tr>\n",
              "    <tr>\n",
              "      <th>48759</th>\n",
              "      <td>United States</td>\n",
              "      <td>USA</td>\n",
              "      <td>GDP per capita (constant 2005 US$)</td>\n",
              "      <td>NY.GDP.PCAP.KD</td>\n",
              "      <td>1961</td>\n",
              "      <td>15578.409657</td>\n",
              "    </tr>\n",
              "  </tbody>\n",
              "</table>\n",
              "</div>"
            ],
            "text/plain": [
              "         CountryName CountryCode  ...  Year         Value\n",
              "22282  United States         USA  ...  1960  15482.707760\n",
              "48759  United States         USA  ...  1961  15578.409657\n",
              "\n",
              "[2 rows x 6 columns]"
            ]
          },
          "metadata": {
            "tags": []
          },
          "execution_count": 40
        }
      ]
    },
    {
      "cell_type": "code",
      "metadata": {
        "id": "Onq2bZ3zETGw",
        "outputId": "2e81b702-a2d1-44b2-ed15-9bfdd33f983c",
        "colab": {
          "base_uri": "https://localhost:8080/",
          "height": 106
        }
      },
      "source": [
        "stage.head(2)"
      ],
      "execution_count": 41,
      "outputs": [
        {
          "output_type": "execute_result",
          "data": {
            "text/html": [
              "<div>\n",
              "<style scoped>\n",
              "    .dataframe tbody tr th:only-of-type {\n",
              "        vertical-align: middle;\n",
              "    }\n",
              "\n",
              "    .dataframe tbody tr th {\n",
              "        vertical-align: top;\n",
              "    }\n",
              "\n",
              "    .dataframe thead th {\n",
              "        text-align: right;\n",
              "    }\n",
              "</style>\n",
              "<table border=\"1\" class=\"dataframe\">\n",
              "  <thead>\n",
              "    <tr style=\"text-align: right;\">\n",
              "      <th></th>\n",
              "      <th>CountryName</th>\n",
              "      <th>CountryCode</th>\n",
              "      <th>IndicatorName</th>\n",
              "      <th>IndicatorCode</th>\n",
              "      <th>Year</th>\n",
              "      <th>Value</th>\n",
              "    </tr>\n",
              "  </thead>\n",
              "  <tbody>\n",
              "    <tr>\n",
              "      <th>22232</th>\n",
              "      <td>United States</td>\n",
              "      <td>USA</td>\n",
              "      <td>CO2 emissions (metric tons per capita)</td>\n",
              "      <td>EN.ATM.CO2E.PC</td>\n",
              "      <td>1960</td>\n",
              "      <td>15.999779</td>\n",
              "    </tr>\n",
              "    <tr>\n",
              "      <th>48708</th>\n",
              "      <td>United States</td>\n",
              "      <td>USA</td>\n",
              "      <td>CO2 emissions (metric tons per capita)</td>\n",
              "      <td>EN.ATM.CO2E.PC</td>\n",
              "      <td>1961</td>\n",
              "      <td>15.681256</td>\n",
              "    </tr>\n",
              "  </tbody>\n",
              "</table>\n",
              "</div>"
            ],
            "text/plain": [
              "         CountryName CountryCode  ...  Year      Value\n",
              "22232  United States         USA  ...  1960  15.999779\n",
              "48708  United States         USA  ...  1961  15.681256\n",
              "\n",
              "[2 rows x 6 columns]"
            ]
          },
          "metadata": {
            "tags": []
          },
          "execution_count": 41
        }
      ]
    },
    {
      "cell_type": "code",
      "metadata": {
        "id": "GybsrLmdETGz",
        "outputId": "6eea06b1-7f01-4d93-8206-32cfe51ee04d",
        "colab": {
          "base_uri": "https://localhost:8080/",
          "height": 295
        }
      },
      "source": [
        "# switch to a line plot\n",
        "plt.plot(gdp_stage['Year'].values, gdp_stage['Value'].values)\n",
        "\n",
        "# Label the axes\n",
        "plt.xlabel('Year')\n",
        "plt.ylabel(gdp_stage['IndicatorName'].iloc[0])\n",
        "\n",
        "#label the figure\n",
        "plt.title('GDP Per Capita USA')\n",
        "\n",
        "# to make more honest, start they y axis at 0\n",
        "#plt.axis([1959, 2011,0,25])\n",
        "\n",
        "plt.show()"
      ],
      "execution_count": 42,
      "outputs": [
        {
          "output_type": "display_data",
          "data": {
            "image/png": "[encoded data removed]",
            "text/plain": [
              "<Figure size 432x288 with 1 Axes>"
            ]
          },
          "metadata": {
            "tags": [],
            "needs_background": "light"
          }
        }
      ]
    },
    {
      "cell_type": "markdown",
      "metadata": {
        "id": "vulTHXYIETG4"
      },
      "source": [
        "So although we've seen a decline in the CO2 emissions per capita, it does not seem to translate to a decline in GDP per capita"
      ]
    },
    {
      "cell_type": "markdown",
      "metadata": {
        "id": "2I5jILNVETG4"
      },
      "source": [
        "### ScatterPlot for comparing GDP against CO2 emissions (per capita)\n",
        "\n",
        "First, we'll need to make sure we're looking at the same time frames"
      ]
    },
    {
      "cell_type": "code",
      "metadata": {
        "id": "7VTBiHftETG5",
        "outputId": "9b7dadc1-8a80-46fb-f491-a6d8e1d39ae9",
        "colab": {
          "base_uri": "https://localhost:8080/",
          "height": 50
        }
      },
      "source": [
        "print(\"GDP Min Year = \", gdp_stage['Year'].min(), \"max: \", gdp_stage['Year'].max())\n",
        "print(\"CO2 Min Year = \", stage['Year'].min(), \"max: \", stage['Year'].max())"
      ],
      "execution_count": 43,
      "outputs": [
        {
          "output_type": "stream",
          "text": [
            "GDP Min Year =  1960 max:  2014\n",
            "CO2 Min Year =  1960 max:  2011\n"
          ],
          "name": "stdout"
        }
      ]
    },
    {
      "cell_type": "markdown",
      "metadata": {
        "id": "BzS55xwmETG9"
      },
      "source": [
        "We have 3 extra years of GDP data, so let's trim those off so the scatterplot has equal length arrays to compare (this is actually required by scatterplot)"
      ]
    },
    {
      "cell_type": "code",
      "metadata": {
        "id": "V7DpNiW1ETG-",
        "outputId": "49673058-c097-4adc-aa66-4e763347bce3",
        "colab": {
          "base_uri": "https://localhost:8080/",
          "height": 50
        }
      },
      "source": [
        "gdp_stage_trunc = gdp_stage[gdp_stage['Year'] < 2012]\n",
        "print(len(gdp_stage_trunc))\n",
        "print(len(stage))"
      ],
      "execution_count": 44,
      "outputs": [
        {
          "output_type": "stream",
          "text": [
            "52\n",
            "52\n"
          ],
          "name": "stdout"
        }
      ]
    },
    {
      "cell_type": "code",
      "metadata": {
        "id": "DBx0QmeRETHC",
        "outputId": "d6d00b65-0095-46b4-fbeb-d72eabbbd99d",
        "colab": {
          "base_uri": "https://localhost:8080/",
          "height": 293
        }
      },
      "source": [
        "%matplotlib inline\n",
        "import matplotlib.pyplot as plt\n",
        "\n",
        "fig, axis = plt.subplots()\n",
        "# Grid lines, Xticks, Xlabel, Ylabel\n",
        "\n",
        "axis.yaxis.grid(True)\n",
        "axis.set_title('CO2 Emissions vs. GDP \\(per capital)',fontsize=10)\n",
        "axis.set_xlabel(gdp_stage_trunc['IndicatorName'].iloc[0],fontsize=10)\n",
        "axis.set_ylabel(stage['IndicatorName'].iloc[0],fontsize=10)\n",
        "\n",
        "X = gdp_stage_trunc['Value']\n",
        "Y = stage['Value']\n",
        "\n",
        "axis.scatter(X, Y)\n",
        "plt.show()"
      ],
      "execution_count": 45,
      "outputs": [
        {
          "output_type": "display_data",
          "data": {
            "image/png": "[encoded data removed]",
            "text/plain": [
              "<Figure size 432x288 with 1 Axes>"
            ]
          },
          "metadata": {
            "tags": [],
            "needs_background": "light"
          }
        }
      ]
    },
    {
      "cell_type": "markdown",
      "metadata": {
        "id": "2jLp9DXuETHI"
      },
      "source": [
        "This doesn't look like a strong relationship.  We can test this by looking at correlation."
      ]
    },
    {
      "cell_type": "code",
      "metadata": {
        "id": "42lFQSUsETHI",
        "outputId": "e9526ec5-e197-4b8f-8a09-b9c56e3adf6a",
        "colab": {
          "base_uri": "https://localhost:8080/",
          "height": 50
        }
      },
      "source": [
        "np.corrcoef(gdp_stage_trunc['Value'],stage['Value'])"
      ],
      "execution_count": 46,
      "outputs": [
        {
          "output_type": "execute_result",
          "data": {
            "text/plain": [
              "array([[1.        , 0.07676005],\n",
              "       [0.07676005, 1.        ]])"
            ]
          },
          "metadata": {
            "tags": []
          },
          "execution_count": 46
        }
      ]
    },
    {
      "cell_type": "markdown",
      "metadata": {
        "id": "j11FRv_eETHL"
      },
      "source": [
        "You could continue to explore this to see if other countries have a closer relationship between CO2 emissions and GDP.  Perhaps it is stronger for developing countries?"
      ]
    },
    {
      "cell_type": "code",
      "metadata": {
        "id": "tnjR6zGxK634"
      },
      "source": [
        ""
      ],
      "execution_count": null,
      "outputs": []
    }
  ]
}